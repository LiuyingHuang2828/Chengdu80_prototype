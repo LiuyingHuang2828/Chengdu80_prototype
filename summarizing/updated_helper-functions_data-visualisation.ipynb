{
 "cells": [
  {
   "cell_type": "markdown",
   "metadata": {},
   "source": [
    "# Helper Functions:))"
   ]
  },
  {
   "cell_type": "code",
   "execution_count": 6,
   "metadata": {},
   "outputs": [],
   "source": [
    "import requests\n",
    "import yfinance as yf\n",
    "import pandas as pd\n",
    "import re\n",
    "import matplotlib.pyplot as plt"
   ]
  },
  {
   "cell_type": "markdown",
   "metadata": {},
   "source": [
    "**Geting Stock Data with \\<Company Name\\> & \\<Time Period of Interest\\> -> for Stock Price Trend Visualisation**"
   ]
  },
  {
   "cell_type": "code",
   "execution_count": 3,
   "metadata": {},
   "outputs": [
    {
     "data": {
      "text/html": [
       "<div>\n",
       "<style scoped>\n",
       "    .dataframe tbody tr th:only-of-type {\n",
       "        vertical-align: middle;\n",
       "    }\n",
       "\n",
       "    .dataframe tbody tr th {\n",
       "        vertical-align: top;\n",
       "    }\n",
       "\n",
       "    .dataframe thead th {\n",
       "        text-align: right;\n",
       "    }\n",
       "</style>\n",
       "<table border=\"1\" class=\"dataframe\">\n",
       "  <thead>\n",
       "    <tr style=\"text-align: right;\">\n",
       "      <th></th>\n",
       "      <th>date</th>\n",
       "      <th>close</th>\n",
       "    </tr>\n",
       "  </thead>\n",
       "  <tbody>\n",
       "    <tr>\n",
       "      <th>0</th>\n",
       "      <td>2024-06-13 00:00:00-04:00</td>\n",
       "      <td>503.600006</td>\n",
       "    </tr>\n",
       "    <tr>\n",
       "      <th>1</th>\n",
       "      <td>2024-06-14 00:00:00-04:00</td>\n",
       "      <td>504.160004</td>\n",
       "    </tr>\n",
       "    <tr>\n",
       "      <th>2</th>\n",
       "      <td>2024-06-17 00:00:00-04:00</td>\n",
       "      <td>506.630005</td>\n",
       "    </tr>\n",
       "    <tr>\n",
       "      <th>3</th>\n",
       "      <td>2024-06-18 00:00:00-04:00</td>\n",
       "      <td>499.489990</td>\n",
       "    </tr>\n",
       "    <tr>\n",
       "      <th>4</th>\n",
       "      <td>2024-06-20 00:00:00-04:00</td>\n",
       "      <td>501.700012</td>\n",
       "    </tr>\n",
       "    <tr>\n",
       "      <th>...</th>\n",
       "      <td>...</td>\n",
       "      <td>...</td>\n",
       "    </tr>\n",
       "    <tr>\n",
       "      <th>59</th>\n",
       "      <td>2024-09-09 00:00:00-04:00</td>\n",
       "      <td>504.790009</td>\n",
       "    </tr>\n",
       "    <tr>\n",
       "      <th>60</th>\n",
       "      <td>2024-09-10 00:00:00-04:00</td>\n",
       "      <td>504.790009</td>\n",
       "    </tr>\n",
       "    <tr>\n",
       "      <th>61</th>\n",
       "      <td>2024-09-11 00:00:00-04:00</td>\n",
       "      <td>511.829987</td>\n",
       "    </tr>\n",
       "    <tr>\n",
       "      <th>62</th>\n",
       "      <td>2024-09-12 00:00:00-04:00</td>\n",
       "      <td>525.599976</td>\n",
       "    </tr>\n",
       "    <tr>\n",
       "      <th>63</th>\n",
       "      <td>2024-09-13 00:00:00-04:00</td>\n",
       "      <td>524.107178</td>\n",
       "    </tr>\n",
       "  </tbody>\n",
       "</table>\n",
       "<p>64 rows × 2 columns</p>\n",
       "</div>"
      ],
      "text/plain": [
       "                        date       close\n",
       "0  2024-06-13 00:00:00-04:00  503.600006\n",
       "1  2024-06-14 00:00:00-04:00  504.160004\n",
       "2  2024-06-17 00:00:00-04:00  506.630005\n",
       "3  2024-06-18 00:00:00-04:00  499.489990\n",
       "4  2024-06-20 00:00:00-04:00  501.700012\n",
       "..                       ...         ...\n",
       "59 2024-09-09 00:00:00-04:00  504.790009\n",
       "60 2024-09-10 00:00:00-04:00  504.790009\n",
       "61 2024-09-11 00:00:00-04:00  511.829987\n",
       "62 2024-09-12 00:00:00-04:00  525.599976\n",
       "63 2024-09-13 00:00:00-04:00  524.107178\n",
       "\n",
       "[64 rows x 2 columns]"
      ]
     },
     "execution_count": 3,
     "metadata": {},
     "output_type": "execute_result"
    }
   ],
   "source": [
    "def search_ticker_exact(dataframe, search_term):\n",
    "    mask = (\n",
    "        (dataframe['name'].str.lower() == search_term.lower()) |\n",
    "        (dataframe['short_name'].str.lower() == search_term.lower()) |\n",
    "        (dataframe['tiny_name'].str.lower() == search_term.lower())\n",
    "    )\n",
    "    return dataframe[mask][\"ticker\"].values[0] if not dataframe[mask].empty else \"\"\n",
    "\n",
    "\n",
    "def get_stock_data(company_name, period):\n",
    "    data = yf.Ticker(search_ticker_exact(df, company_name)).history(period=period)\n",
    "    lst_date = data.index.tolist();\n",
    "    lst_close = data[\"Close\"].tolist();\n",
    "    return pd.DataFrame({\"date\": lst_date, \"close\": lst_close})\n",
    "\n",
    "\n",
    "df = pd.read_csv(\"us_symbols.csv\") # list of correspoding Ticker given Company Name\n",
    "\n",
    "get_stock_data(\"meta\", \"3mo\")\n",
    "# period must be one of ['1d', '5d', '1mo', '3mo', '6mo', '1y', '2y', '5y', '10y', 'ytd', 'max']"
   ]
  },
  {
   "cell_type": "markdown",
   "metadata": {},
   "source": [
    "**Extract RISK SCORE with RE**"
   ]
  },
  {
   "cell_type": "code",
   "execution_count": 7,
   "metadata": {},
   "outputs": [
    {
     "name": "stdout",
     "output_type": "stream",
     "text": [
      "7/10\n",
      "0.7\n"
     ]
    }
   ],
   "source": [
    "text = \"This model scored 7/10 for accuracy.\"\n",
    "\n",
    "# for Displaying Risk Score\n",
    "# returns String of the form \"7/10\" if found, else \"No match found.\"\n",
    "def get_risk_score(text):\n",
    "    match = re.search(r'\\b(?:10|[0-9])/10\\b', text)\n",
    "    if match:\n",
    "        return match.group()\n",
    "    else:\n",
    "        return \"No match found.\"\n",
    "\n",
    "# for Pie Chart Plotting\n",
    "# String of the form \"7/10\" -> 0.7\n",
    "def risk_score_to_float(fraction):\n",
    "    numerator, denominator = map(int, fraction.split('/'))\n",
    "    floating_point_number = numerator / denominator\n",
    "    return floating_point_number\n",
    "\n",
    "print(get_risk_score(text)) # 7/10  \n",
    "print(risk_score_to_float(get_risk_score(text))) # 7/10 -> 0.7"
   ]
  },
  {
   "cell_type": "code",
   "execution_count": 8,
   "metadata": {},
   "outputs": [
    {
     "data": {
      "image/png": "[encoded data removed]",
      "text/plain": [
       "<Figure size 640x480 with 1 Axes>"
      ]
     },
     "metadata": {},
     "output_type": "display_data"
    }
   ],
   "source": [
    "# Pie Chart Plotting\n",
    "def plot_risk_score_pie(score_fraction):\n",
    "    # Convert risk score (e.g., \"7/10\") to a fraction (0.7)\n",
    "    score_float = risk_score_to_float(score_fraction)\n",
    "    \n",
    "    # Splitting data \n",
    "    labels = ['Scored Risk', 'Remaining']\n",
    "    sizes = [score_float, 1 - score_float] \n",
    "    colors = ['#ff9999', '#66b3ff']  \n",
    "    explode = (0.1, 0)  # Explode the first slice for emphasis\n",
    "    \n",
    "    # Plotting\n",
    "    plt.pie(sizes, explode=explode, labels=labels, colors=colors, autopct='%1.1f%%',\n",
    "            shadow=True, startangle=90)\n",
    "    plt.axis('equal')  # Equal aspect ratio ensures that pie is drawn as a circle.\n",
    "    plt.title(f\"Total Corporate Risk Score: {score_fraction}\")\n",
    "    plt.show()\n",
    "\n",
    "# Running the extraction and plotting process\n",
    "risk_score = get_risk_score(text)\n",
    "if risk_score != \"No match found.\":\n",
    "    plot_risk_score_pie(risk_score)\n",
    "else:\n",
    "    print(\"No valid risk score found.\")"
   ]
  }
 ],
 "metadata": {
  "kernelspec": {
   "display_name": "Python 3",
   "language": "python",
   "name": "python3"
  },
  "language_info": {
   "codemirror_mode": {
    "name": "ipython",
    "version": 3
   },
   "file_extension": ".py",
   "mimetype": "text/x-python",
   "name": "python",
   "nbconvert_exporter": "python",
   "pygments_lexer": "ipython3",
   "version": "3.12.4"
  }
 },
 "nbformat": 4,
 "nbformat_minor": 2
}
